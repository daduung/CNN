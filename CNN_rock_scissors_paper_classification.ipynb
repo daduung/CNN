{
 "cells": [
  {
   "cell_type": "code",
   "execution_count": 1,
   "id": "f48a1d23",
   "metadata": {},
   "outputs": [],
   "source": [
    "import numpy as np\n",
    "from tensorflow.keras.models import Sequential\n",
    "from tensorflow.keras.layers import Conv2D, MaxPooling2D, Dropout\n",
    "from tensorflow.keras.layers import Flatten, Dense\n",
    "from tensorflow.keras.optimizers import Adam\n",
    "from tensorflow.keras.preprocessing.image import ImageDataGenerator\n",
    "from tensorflow.keras.callbacks import EarlyStopping"
   ]
  },
  {
   "cell_type": "code",
   "execution_count": 2,
   "id": "127a883a",
   "metadata": {},
   "outputs": [],
   "source": [
    "# ImageDataGenerator 객체 생성 (rescale로 정규화)\n",
    "Train_Datagen =  ImageDataGenerator(rescale=1/255)\n",
    "Test_Datagen =  ImageDataGenerator(rescale=1/255)"
   ]
  },
  {
   "cell_type": "code",
   "execution_count": 3,
   "id": "8cf82527",
   "metadata": {},
   "outputs": [],
   "source": [
    "# train과 test 폴더가 나눠져있지 않아서 같은 디렉토리 사용\n",
    "train_dir = './data/'\n",
    "test_dir = './data/'"
   ]
  },
  {
   "cell_type": "code",
   "execution_count": 4,
   "id": "72a22c5e",
   "metadata": {},
   "outputs": [
    {
     "name": "stdout",
     "output_type": "stream",
     "text": [
      "Found 2892 images belonging to 3 classes.\n",
      "Found 2892 images belonging to 3 classes.\n"
     ]
    }
   ],
   "source": [
    "# ImageDataGenerator  설정\n",
    "train_generator = Train_Datagen.flow_from_directory(\n",
    "    train_dir,   # 학습용 이미지를 가져올 폴더\n",
    "    classes=['paper', 'rock', 'scissors'],  # label : paper:0, rock:1, scissors:2\n",
    "    target_size=(120, 120),    #이미지 resize\n",
    "    batch_size=12,             #한번에 12개의 이미지만 가져와서 학습\n",
    "    class_mode='categorical'        #세가지로 분류하므로 categorical\n",
    ")\n",
    "\n",
    "test_generator = Test_Datagen.flow_from_directory(\n",
    "    test_dir,   # 학습용 이미지를 가져올 폴더\n",
    "    classes=['paper', 'rock', 'scissors'],  # label : paper:0, rock:1, scissors:2\n",
    "    target_size=(120, 120),    #이미지 resize\n",
    "    batch_size=12,             #한번에 12개의 이미지만 가져와서 학습\n",
    "    class_mode='categorical'        #세가지로 분류하므로 categorical\n",
    ")"
   ]
  },
  {
   "cell_type": "code",
   "execution_count": 5,
   "id": "834e325e",
   "metadata": {},
   "outputs": [],
   "source": [
    "# CNN Model 구현\n",
    "\n",
    "model = Sequential()\n",
    "\n",
    "model.add(Conv2D(filters=32,\n",
    "                 kernel_size=(3,3),\n",
    "                 strides=(1,1),\n",
    "                 activation='relu',\n",
    "                 input_shape=(120,120,3)))\n",
    "\n",
    "model.add(Conv2D(filters=64,\n",
    "                 kernel_size=(3,3),\n",
    "                 strides=(1,1),\n",
    "                 activation='relu'))\n",
    "\n",
    "model.add(MaxPooling2D(pool_size=(2,2)))\n",
    "\n",
    "model.add(Conv2D(filters=64,\n",
    "                 kernel_size=(3,3),\n",
    "                 strides=(1,1),\n",
    "                 activation='relu'))"
   ]
  },
  {
   "cell_type": "code",
   "execution_count": 6,
   "id": "4cb61d7c",
   "metadata": {},
   "outputs": [],
   "source": [
    "# FC layer(DNN)의 input layer\n",
    "model.add(Flatten())    # 전체 데이터를 4차원에서 2차원으로 변경\n",
    "\n",
    "# hidden layer\n",
    "model.add(Dense(units=64,\n",
    "                activation='relu'))\n",
    "model.add(Dropout(0.2))\n",
    "\n",
    "# output layer\n",
    "model.add(Dense(units=3,\n",
    "                activation='softmax'))"
   ]
  },
  {
   "cell_type": "code",
   "execution_count": 7,
   "id": "7adb3411",
   "metadata": {},
   "outputs": [],
   "source": [
    "# print(model.summary())\n",
    "# model이 어떻게 동작하는지를 지정\n",
    "model.compile(optimizer=Adam(learning_rate=1e-2),\n",
    "              loss='categorical_crossentropy',\n",
    "              metrics=['accuracy'])"
   ]
  },
  {
   "cell_type": "code",
   "execution_count": 8,
   "id": "27bc647d",
   "metadata": {},
   "outputs": [],
   "source": [
    "# 너무 많은 Epoch 은 overfitting, 너무 적은 Epoch 은 underfitting 을 일으킴 \n",
    "# Epoch 을 많이 돌린 후, 특정 시점에서 멈추게 하는 것 : early stopping\n",
    "early_stopping = EarlyStopping(monitor='val_loss', mode='min', verbose=1, patience=5)\n",
    "# patience : 성능이 증가하지 않는 에폭을 몇번이나 허용할 것인가\n",
    "#verbose=1 : 언제 keras 에서 training 을 멈추었는지를 화면에 출력"
   ]
  },
  {
   "cell_type": "code",
   "execution_count": 9,
   "id": "0d295cb6",
   "metadata": {},
   "outputs": [
    {
     "name": "stdout",
     "output_type": "stream",
     "text": [
      "Epoch 1/20\n",
      "241/241 [==============================] - 16s 46ms/step - loss: 3.6233 - accuracy: 0.3358 - val_loss: 1.0994 - val_accuracy: 0.3403\n",
      "Epoch 2/20\n",
      "241/241 [==============================] - 11s 45ms/step - loss: 1.0995 - accuracy: 0.3281 - val_loss: 1.1101 - val_accuracy: 0.2431\n",
      "Epoch 3/20\n",
      "241/241 [==============================] - 11s 45ms/step - loss: 1.1003 - accuracy: 0.3157 - val_loss: 1.1019 - val_accuracy: 0.2639\n",
      "Epoch 4/20\n",
      "241/241 [==============================] - 11s 45ms/step - loss: 1.1001 - accuracy: 0.3292 - val_loss: 1.1000 - val_accuracy: 0.3056\n",
      "Epoch 5/20\n",
      "241/241 [==============================] - 11s 45ms/step - loss: 1.1003 - accuracy: 0.3313 - val_loss: 1.0995 - val_accuracy: 0.3125\n",
      "Epoch 6/20\n",
      "241/241 [==============================] - 11s 45ms/step - loss: 1.0999 - accuracy: 0.3243 - val_loss: 1.0990 - val_accuracy: 0.3125\n",
      "Epoch 7/20\n",
      "241/241 [==============================] - 11s 45ms/step - loss: 1.0997 - accuracy: 0.3264 - val_loss: 1.1003 - val_accuracy: 0.3194\n",
      "Epoch 8/20\n",
      "241/241 [==============================] - 11s 45ms/step - loss: 1.0999 - accuracy: 0.3340 - val_loss: 1.1004 - val_accuracy: 0.3194\n",
      "Epoch 9/20\n",
      "241/241 [==============================] - 11s 46ms/step - loss: 1.1009 - accuracy: 0.3275 - val_loss: 1.0990 - val_accuracy: 0.3403\n",
      "Epoch 10/20\n",
      "241/241 [==============================] - 11s 45ms/step - loss: 1.0999 - accuracy: 0.3264 - val_loss: 1.1054 - val_accuracy: 0.2708\n",
      "Epoch 11/20\n",
      "241/241 [==============================] - 11s 46ms/step - loss: 1.0999 - accuracy: 0.3257 - val_loss: 1.0994 - val_accuracy: 0.3333\n",
      "Epoch 12/20\n",
      "241/241 [==============================] - 11s 46ms/step - loss: 1.0999 - accuracy: 0.3278 - val_loss: 1.0994 - val_accuracy: 0.3056\n",
      "Epoch 13/20\n",
      "241/241 [==============================] - 11s 46ms/step - loss: 1.0992 - accuracy: 0.3358 - val_loss: 1.1049 - val_accuracy: 0.3472\n",
      "Epoch 14/20\n",
      "241/241 [==============================] - 11s 45ms/step - loss: 1.0998 - accuracy: 0.3261 - val_loss: 1.0996 - val_accuracy: 0.3611\n",
      "Epoch 00014: early stopping\n"
     ]
    }
   ],
   "source": [
    "# 설정이 다 되었으면 모델을 학습.\n",
    "history = model.fit(train_generator,\n",
    "          steps_per_epoch=241,\n",
    "          epochs=20,\n",
    "          verbose=1,\n",
    "          validation_data=test_generator,\n",
    "          validation_steps=12,\n",
    "          callbacks=[early_stopping])"
   ]
  },
  {
   "cell_type": "code",
   "execution_count": 10,
   "id": "1ddb5fce",
   "metadata": {},
   "outputs": [
    {
     "name": "stdout",
     "output_type": "stream",
     "text": [
      "Model: \"sequential\"\n",
      "_________________________________________________________________\n",
      "Layer (type)                 Output Shape              Param #   \n",
      "=================================================================\n",
      "conv2d (Conv2D)              (None, 118, 118, 32)      896       \n",
      "_________________________________________________________________\n",
      "conv2d_1 (Conv2D)            (None, 116, 116, 64)      18496     \n",
      "_________________________________________________________________\n",
      "max_pooling2d (MaxPooling2D) (None, 58, 58, 64)        0         \n",
      "_________________________________________________________________\n",
      "conv2d_2 (Conv2D)            (None, 56, 56, 64)        36928     \n",
      "_________________________________________________________________\n",
      "flatten (Flatten)            (None, 200704)            0         \n",
      "_________________________________________________________________\n",
      "dense (Dense)                (None, 64)                12845120  \n",
      "_________________________________________________________________\n",
      "dropout (Dropout)            (None, 64)                0         \n",
      "_________________________________________________________________\n",
      "dense_1 (Dense)              (None, 3)                 195       \n",
      "=================================================================\n",
      "Total params: 12,901,635\n",
      "Trainable params: 12,901,635\n",
      "Non-trainable params: 0\n",
      "_________________________________________________________________\n"
     ]
    }
   ],
   "source": [
    "model.summary()"
   ]
  },
  {
   "cell_type": "code",
   "execution_count": 12,
   "id": "9e0b82d6",
   "metadata": {},
   "outputs": [],
   "source": [
    "import matplotlib.pyplot as plt"
   ]
  },
  {
   "cell_type": "code",
   "execution_count": 13,
   "id": "e5db2c74",
   "metadata": {},
   "outputs": [
    {
     "data": {
      "image/png": "[encoded data removed]",
      "text/plain": [
       "<Figure size 864x288 with 2 Axes>"
      ]
     },
     "metadata": {
      "needs_background": "light"
     },
     "output_type": "display_data"
    }
   ],
   "source": [
    "def plot_loss_acc(history, epoch):\n",
    "\n",
    "    loss, val_loss = history.history['loss'], history.history['val_loss']\n",
    "    acc, val_acc = history.history['accuracy'], history.history['val_accuracy']\n",
    "\n",
    "    fig, axes = plt.subplots(1, 2, figsize=(12, 4))\n",
    "\n",
    "    axes[0].plot(range(1, epoch + 1), loss, label='Training')\n",
    "    axes[0].plot(range(1, epoch + 1), val_loss, label='Validation')\n",
    "    axes[0].legend(loc='best')\n",
    "    axes[0].set_title('Loss')\n",
    "\n",
    "    axes[1].plot(range(1, epoch + 1), acc, label='Training')\n",
    "    axes[1].plot(range(1, epoch + 1), val_acc, label='Validation')\n",
    "    axes[1].legend(loc='best')\n",
    "    axes[1].set_title('Accuracy')\n",
    "\n",
    "    plt.show()\n",
    "\n",
    "plot_loss_acc(history, 20)"
   ]
  },
  {
   "cell_type": "code",
   "execution_count": null,
   "id": "edbe3735",
   "metadata": {},
   "outputs": [],
   "source": []
  }
 ],
 "metadata": {
  "kernelspec": {
   "display_name": "Python 3 (ipykernel)",
   "language": "python",
   "name": "python3"
  },
  "language_info": {
   "codemirror_mode": {
    "name": "ipython",
    "version": 3
   },
   "file_extension": ".py",
   "mimetype": "text/x-python",
   "name": "python",
   "nbconvert_exporter": "python",
   "pygments_lexer": "ipython3",
   "version": "3.9.12"
  },
  "latex_envs": {
   "LaTeX_envs_menu_present": true,
   "autoclose": false,
   "autocomplete": true,
   "bibliofile": "biblio.bib",
   "cite_by": "apalike",
   "current_citInitial": 1,
   "eqLabelWithNumbers": true,
   "eqNumInitial": 1,
   "hotkeys": {
    "equation": "Ctrl-E",
    "itemize": "Ctrl-I"
   },
   "labels_anchors": false,
   "latex_user_defs": false,
   "report_style_numbering": false,
   "user_envs_cfg": false
  },
  "nbTranslate": {
   "displayLangs": [
    "*"
   ],
   "hotkey": "",
   "langInMainMenu": true,
   "sourceLang": "en",
   "targetLang": "fr",
   "useGoogleTranslate": true
  },
  "toc": {
   "base_numbering": 1,
   "nav_menu": {},
   "number_sections": true,
   "sideBar": true,
   "skip_h1_title": false,
   "title_cell": "Table of Contents",
   "title_sidebar": "Contents",
   "toc_cell": false,
   "toc_position": {},
   "toc_section_display": true,
   "toc_window_display": false
  },
  "varInspector": {
   "cols": {
    "lenName": 16,
    "lenType": 16,
    "lenVar": 40
   },
   "kernels_config": {
    "python": {
     "delete_cmd_postfix": "",
     "delete_cmd_prefix": "del ",
     "library": "var_list.py",
     "varRefreshCmd": "print(var_dic_list())"
    },
    "r": {
     "delete_cmd_postfix": ") ",
     "delete_cmd_prefix": "rm(",
     "library": "var_list.r",
     "varRefreshCmd": "cat(var_dic_list()) "
    }
   },
   "types_to_exclude": [
    "module",
    "function",
    "builtin_function_or_method",
    "instance",
    "_Feature"
   ],
   "window_display": false
  }
 },
 "nbformat": 4,
 "nbformat_minor": 5
}
